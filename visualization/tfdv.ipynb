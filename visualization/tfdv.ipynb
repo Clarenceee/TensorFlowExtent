{
 "cells": [
  {
   "cell_type": "code",
   "execution_count": 2,
   "metadata": {},
   "outputs": [
    {
     "name": "stdout",
     "output_type": "stream",
     "text": [
      "TFDV Version: 1.12.0\n",
      "Tensorflow Version: 2.11.0\n"
     ]
    }
   ],
   "source": [
    "import tensorflow as tf\n",
    "import tensorflow_data_validation as tfdv\n",
    "import pandas as pd\n",
    "\n",
    "from sklearn.model_selection import train_test_split\n",
    "\n",
    "from tensorflow_metadata.proto.v0 import schema_pb2\n",
    "\n",
    "print('TFDV Version: {}'.format(tfdv.__version__))\n",
    "print('Tensorflow Version: {}'.format(tf.__version__))"
   ]
  },
  {
   "cell_type": "code",
   "execution_count": 3,
   "metadata": {},
   "outputs": [],
   "source": [
    "header_col = ['age','workclass','fnlwgt','education-num','marital-status','occupation','relationship','race','sex','capital-gain','capital-loss','hours-per-week','native-country','label']"
   ]
  },
  {
   "cell_type": "code",
   "execution_count": 4,
   "metadata": {},
   "outputs": [],
   "source": [
    "# Read in the training and evaluation datasets\n",
    "df = pd.read_csv('census+income/adult.data', skipinitialspace=True,  header=None, names=header_col)"
   ]
  },
  {
   "cell_type": "code",
   "execution_count": 5,
   "metadata": {},
   "outputs": [
    {
     "data": {
      "text/html": [
       "<div>\n",
       "<style scoped>\n",
       "    .dataframe tbody tr th:only-of-type {\n",
       "        vertical-align: middle;\n",
       "    }\n",
       "\n",
       "    .dataframe tbody tr th {\n",
       "        vertical-align: top;\n",
       "    }\n",
       "\n",
       "    .dataframe thead th {\n",
       "        text-align: right;\n",
       "    }\n",
       "</style>\n",
       "<table border=\"1\" class=\"dataframe\">\n",
       "  <thead>\n",
       "    <tr style=\"text-align: right;\">\n",
       "      <th></th>\n",
       "      <th>age</th>\n",
       "      <th>workclass</th>\n",
       "      <th>fnlwgt</th>\n",
       "      <th>education-num</th>\n",
       "      <th>marital-status</th>\n",
       "      <th>occupation</th>\n",
       "      <th>relationship</th>\n",
       "      <th>race</th>\n",
       "      <th>sex</th>\n",
       "      <th>capital-gain</th>\n",
       "      <th>capital-loss</th>\n",
       "      <th>hours-per-week</th>\n",
       "      <th>native-country</th>\n",
       "      <th>label</th>\n",
       "    </tr>\n",
       "  </thead>\n",
       "  <tbody>\n",
       "    <tr>\n",
       "      <th>39</th>\n",
       "      <td>State-gov</td>\n",
       "      <td>77516</td>\n",
       "      <td>Bachelors</td>\n",
       "      <td>13</td>\n",
       "      <td>Never-married</td>\n",
       "      <td>Adm-clerical</td>\n",
       "      <td>Not-in-family</td>\n",
       "      <td>White</td>\n",
       "      <td>Male</td>\n",
       "      <td>2174</td>\n",
       "      <td>0</td>\n",
       "      <td>40</td>\n",
       "      <td>United-States</td>\n",
       "      <td>&lt;=50K</td>\n",
       "    </tr>\n",
       "    <tr>\n",
       "      <th>50</th>\n",
       "      <td>Self-emp-not-inc</td>\n",
       "      <td>83311</td>\n",
       "      <td>Bachelors</td>\n",
       "      <td>13</td>\n",
       "      <td>Married-civ-spouse</td>\n",
       "      <td>Exec-managerial</td>\n",
       "      <td>Husband</td>\n",
       "      <td>White</td>\n",
       "      <td>Male</td>\n",
       "      <td>0</td>\n",
       "      <td>0</td>\n",
       "      <td>13</td>\n",
       "      <td>United-States</td>\n",
       "      <td>&lt;=50K</td>\n",
       "    </tr>\n",
       "    <tr>\n",
       "      <th>38</th>\n",
       "      <td>Private</td>\n",
       "      <td>215646</td>\n",
       "      <td>HS-grad</td>\n",
       "      <td>9</td>\n",
       "      <td>Divorced</td>\n",
       "      <td>Handlers-cleaners</td>\n",
       "      <td>Not-in-family</td>\n",
       "      <td>White</td>\n",
       "      <td>Male</td>\n",
       "      <td>0</td>\n",
       "      <td>0</td>\n",
       "      <td>40</td>\n",
       "      <td>United-States</td>\n",
       "      <td>&lt;=50K</td>\n",
       "    </tr>\n",
       "    <tr>\n",
       "      <th>53</th>\n",
       "      <td>Private</td>\n",
       "      <td>234721</td>\n",
       "      <td>11th</td>\n",
       "      <td>7</td>\n",
       "      <td>Married-civ-spouse</td>\n",
       "      <td>Handlers-cleaners</td>\n",
       "      <td>Husband</td>\n",
       "      <td>Black</td>\n",
       "      <td>Male</td>\n",
       "      <td>0</td>\n",
       "      <td>0</td>\n",
       "      <td>40</td>\n",
       "      <td>United-States</td>\n",
       "      <td>&lt;=50K</td>\n",
       "    </tr>\n",
       "    <tr>\n",
       "      <th>28</th>\n",
       "      <td>Private</td>\n",
       "      <td>338409</td>\n",
       "      <td>Bachelors</td>\n",
       "      <td>13</td>\n",
       "      <td>Married-civ-spouse</td>\n",
       "      <td>Prof-specialty</td>\n",
       "      <td>Wife</td>\n",
       "      <td>Black</td>\n",
       "      <td>Female</td>\n",
       "      <td>0</td>\n",
       "      <td>0</td>\n",
       "      <td>40</td>\n",
       "      <td>Cuba</td>\n",
       "      <td>&lt;=50K</td>\n",
       "    </tr>\n",
       "  </tbody>\n",
       "</table>\n",
       "</div>"
      ],
      "text/plain": [
       "                 age  workclass     fnlwgt  education-num      marital-status  \\\n",
       "39         State-gov      77516  Bachelors             13       Never-married   \n",
       "50  Self-emp-not-inc      83311  Bachelors             13  Married-civ-spouse   \n",
       "38           Private     215646    HS-grad              9            Divorced   \n",
       "53           Private     234721       11th              7  Married-civ-spouse   \n",
       "28           Private     338409  Bachelors             13  Married-civ-spouse   \n",
       "\n",
       "           occupation   relationship   race     sex  capital-gain  \\\n",
       "39       Adm-clerical  Not-in-family  White    Male          2174   \n",
       "50    Exec-managerial        Husband  White    Male             0   \n",
       "38  Handlers-cleaners  Not-in-family  White    Male             0   \n",
       "53  Handlers-cleaners        Husband  Black    Male             0   \n",
       "28     Prof-specialty           Wife  Black  Female             0   \n",
       "\n",
       "    capital-loss  hours-per-week native-country  label  \n",
       "39             0              40  United-States  <=50K  \n",
       "50             0              13  United-States  <=50K  \n",
       "38             0              40  United-States  <=50K  \n",
       "53             0              40  United-States  <=50K  \n",
       "28             0              40           Cuba  <=50K  "
      ]
     },
     "execution_count": 5,
     "metadata": {},
     "output_type": "execute_result"
    }
   ],
   "source": [
    "df.head()"
   ]
  },
  {
   "cell_type": "code",
   "execution_count": 6,
   "metadata": {},
   "outputs": [],
   "source": [
    "train_df, eval_df = train_test_split(df, test_size=0.2, shuffle=False)"
   ]
  },
  {
   "cell_type": "markdown",
   "metadata": {},
   "source": [
    "#### Generate Statistics"
   ]
  },
  {
   "cell_type": "code",
   "execution_count": 7,
   "metadata": {},
   "outputs": [
    {
     "data": {
      "text/html": [
       "<iframe id='facets-iframe' width=\"100%\" height=\"500px\"></iframe>\n",
       "        <script>\n",
       "        facets_iframe = document.getElementById('facets-iframe');\n",
       "        facets_html = '<script src=\"https://cdnjs.cloudflare.com/ajax/libs/webcomponentsjs/1.3.3/webcomponents-lite.js\"><\\/script><link rel=\"import\" href=\"https://raw.githubusercontent.com/PAIR-code/facets/master/facets-dist/facets-jupyter.html\"><facets-overview proto-input=\"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\"></facets-overview>';\n",
       "        facets_iframe.srcdoc = facets_html;\n",
       "         facets_iframe.id = \"\";\n",
       "         setTimeout(() => {\n",
       "           facets_iframe.setAttribute('height', facets_iframe.contentWindow.document.body.offsetHeight + 'px')\n",
       "         }, 1500)\n",
       "         </script>"
      ],
      "text/plain": [
       "<IPython.core.display.HTML object>"
      ]
     },
     "metadata": {},
     "output_type": "display_data"
    }
   ],
   "source": [
    "# Generate training dataset statistics\n",
    "train_stats = tfdv.generate_statistics_from_dataframe(train_df)\n",
    "tfdv.visualize_statistics(train_stats)"
   ]
  },
  {
   "cell_type": "markdown",
   "metadata": {},
   "source": [
    "#### Generate Schema"
   ]
  },
  {
   "cell_type": "code",
   "execution_count": 8,
   "metadata": {},
   "outputs": [
    {
     "data": {
      "text/html": [
       "<div>\n",
       "<style scoped>\n",
       "    .dataframe tbody tr th:only-of-type {\n",
       "        vertical-align: middle;\n",
       "    }\n",
       "\n",
       "    .dataframe tbody tr th {\n",
       "        vertical-align: top;\n",
       "    }\n",
       "\n",
       "    .dataframe thead th {\n",
       "        text-align: right;\n",
       "    }\n",
       "</style>\n",
       "<table border=\"1\" class=\"dataframe\">\n",
       "  <thead>\n",
       "    <tr style=\"text-align: right;\">\n",
       "      <th></th>\n",
       "      <th>Type</th>\n",
       "      <th>Presence</th>\n",
       "      <th>Valency</th>\n",
       "      <th>Domain</th>\n",
       "    </tr>\n",
       "    <tr>\n",
       "      <th>Feature name</th>\n",
       "      <th></th>\n",
       "      <th></th>\n",
       "      <th></th>\n",
       "      <th></th>\n",
       "    </tr>\n",
       "  </thead>\n",
       "  <tbody>\n",
       "    <tr>\n",
       "      <th>'age'</th>\n",
       "      <td>STRING</td>\n",
       "      <td>required</td>\n",
       "      <td></td>\n",
       "      <td>'age'</td>\n",
       "    </tr>\n",
       "    <tr>\n",
       "      <th>'workclass'</th>\n",
       "      <td>INT</td>\n",
       "      <td>required</td>\n",
       "      <td></td>\n",
       "      <td>-</td>\n",
       "    </tr>\n",
       "    <tr>\n",
       "      <th>'fnlwgt'</th>\n",
       "      <td>STRING</td>\n",
       "      <td>required</td>\n",
       "      <td></td>\n",
       "      <td>'fnlwgt'</td>\n",
       "    </tr>\n",
       "    <tr>\n",
       "      <th>'education-num'</th>\n",
       "      <td>INT</td>\n",
       "      <td>required</td>\n",
       "      <td></td>\n",
       "      <td>-</td>\n",
       "    </tr>\n",
       "    <tr>\n",
       "      <th>'marital-status'</th>\n",
       "      <td>STRING</td>\n",
       "      <td>required</td>\n",
       "      <td></td>\n",
       "      <td>'marital-status'</td>\n",
       "    </tr>\n",
       "    <tr>\n",
       "      <th>'occupation'</th>\n",
       "      <td>STRING</td>\n",
       "      <td>required</td>\n",
       "      <td></td>\n",
       "      <td>'occupation'</td>\n",
       "    </tr>\n",
       "    <tr>\n",
       "      <th>'relationship'</th>\n",
       "      <td>STRING</td>\n",
       "      <td>required</td>\n",
       "      <td></td>\n",
       "      <td>'relationship'</td>\n",
       "    </tr>\n",
       "    <tr>\n",
       "      <th>'race'</th>\n",
       "      <td>STRING</td>\n",
       "      <td>required</td>\n",
       "      <td></td>\n",
       "      <td>'race'</td>\n",
       "    </tr>\n",
       "    <tr>\n",
       "      <th>'sex'</th>\n",
       "      <td>STRING</td>\n",
       "      <td>required</td>\n",
       "      <td></td>\n",
       "      <td>'sex'</td>\n",
       "    </tr>\n",
       "    <tr>\n",
       "      <th>'capital-gain'</th>\n",
       "      <td>INT</td>\n",
       "      <td>required</td>\n",
       "      <td></td>\n",
       "      <td>-</td>\n",
       "    </tr>\n",
       "    <tr>\n",
       "      <th>'capital-loss'</th>\n",
       "      <td>INT</td>\n",
       "      <td>required</td>\n",
       "      <td></td>\n",
       "      <td>-</td>\n",
       "    </tr>\n",
       "    <tr>\n",
       "      <th>'hours-per-week'</th>\n",
       "      <td>INT</td>\n",
       "      <td>required</td>\n",
       "      <td></td>\n",
       "      <td>-</td>\n",
       "    </tr>\n",
       "    <tr>\n",
       "      <th>'native-country'</th>\n",
       "      <td>STRING</td>\n",
       "      <td>required</td>\n",
       "      <td></td>\n",
       "      <td>'native-country'</td>\n",
       "    </tr>\n",
       "    <tr>\n",
       "      <th>'label'</th>\n",
       "      <td>STRING</td>\n",
       "      <td>required</td>\n",
       "      <td></td>\n",
       "      <td>'label'</td>\n",
       "    </tr>\n",
       "    <tr>\n",
       "      <th>'__index_level_0__'</th>\n",
       "      <td>INT</td>\n",
       "      <td>required</td>\n",
       "      <td></td>\n",
       "      <td>-</td>\n",
       "    </tr>\n",
       "  </tbody>\n",
       "</table>\n",
       "</div>"
      ],
      "text/plain": [
       "                       Type  Presence Valency            Domain\n",
       "Feature name                                                   \n",
       "'age'                STRING  required                     'age'\n",
       "'workclass'             INT  required                         -\n",
       "'fnlwgt'             STRING  required                  'fnlwgt'\n",
       "'education-num'         INT  required                         -\n",
       "'marital-status'     STRING  required          'marital-status'\n",
       "'occupation'         STRING  required              'occupation'\n",
       "'relationship'       STRING  required            'relationship'\n",
       "'race'               STRING  required                    'race'\n",
       "'sex'                STRING  required                     'sex'\n",
       "'capital-gain'          INT  required                         -\n",
       "'capital-loss'          INT  required                         -\n",
       "'hours-per-week'        INT  required                         -\n",
       "'native-country'     STRING  required          'native-country'\n",
       "'label'              STRING  required                   'label'\n",
       "'__index_level_0__'     INT  required                         -"
      ]
     },
     "metadata": {},
     "output_type": "display_data"
    },
    {
     "data": {
      "text/html": [
       "<div>\n",
       "<style scoped>\n",
       "    .dataframe tbody tr th:only-of-type {\n",
       "        vertical-align: middle;\n",
       "    }\n",
       "\n",
       "    .dataframe tbody tr th {\n",
       "        vertical-align: top;\n",
       "    }\n",
       "\n",
       "    .dataframe thead th {\n",
       "        text-align: right;\n",
       "    }\n",
       "</style>\n",
       "<table border=\"1\" class=\"dataframe\">\n",
       "  <thead>\n",
       "    <tr style=\"text-align: right;\">\n",
       "      <th></th>\n",
       "      <th>Values</th>\n",
       "    </tr>\n",
       "    <tr>\n",
       "      <th>Domain</th>\n",
       "      <th></th>\n",
       "    </tr>\n",
       "  </thead>\n",
       "  <tbody>\n",
       "    <tr>\n",
       "      <th>'age'</th>\n",
       "      <td>'?', 'Federal-gov', 'Local-gov', 'Never-worked', 'Private', 'Self-emp-inc', 'Self-emp-not-inc', 'State-gov', 'Without-pay'</td>\n",
       "    </tr>\n",
       "    <tr>\n",
       "      <th>'fnlwgt'</th>\n",
       "      <td>'10th', '11th', '12th', '1st-4th', '5th-6th', '7th-8th', '9th', 'Assoc-acdm', 'Assoc-voc', 'Bachelors', 'Doctorate', 'HS-grad', 'Masters', 'Preschool', 'Prof-school', 'Some-college'</td>\n",
       "    </tr>\n",
       "    <tr>\n",
       "      <th>'marital-status'</th>\n",
       "      <td>'Divorced', 'Married-AF-spouse', 'Married-civ-spouse', 'Married-spouse-absent', 'Never-married', 'Separated', 'Widowed'</td>\n",
       "    </tr>\n",
       "    <tr>\n",
       "      <th>'occupation'</th>\n",
       "      <td>'?', 'Adm-clerical', 'Armed-Forces', 'Craft-repair', 'Exec-managerial', 'Farming-fishing', 'Handlers-cleaners', 'Machine-op-inspct', 'Other-service', 'Priv-house-serv', 'Prof-specialty', 'Protective-serv', 'Sales', 'Tech-support', 'Transport-moving'</td>\n",
       "    </tr>\n",
       "    <tr>\n",
       "      <th>'relationship'</th>\n",
       "      <td>'Husband', 'Not-in-family', 'Other-relative', 'Own-child', 'Unmarried', 'Wife'</td>\n",
       "    </tr>\n",
       "    <tr>\n",
       "      <th>'race'</th>\n",
       "      <td>'Amer-Indian-Eskimo', 'Asian-Pac-Islander', 'Black', 'Other', 'White'</td>\n",
       "    </tr>\n",
       "    <tr>\n",
       "      <th>'sex'</th>\n",
       "      <td>'Female', 'Male'</td>\n",
       "    </tr>\n",
       "    <tr>\n",
       "      <th>'native-country'</th>\n",
       "      <td>'?', 'Cambodia', 'Canada', 'China', 'Columbia', 'Cuba', 'Dominican-Republic', 'Ecuador', 'El-Salvador', 'England', 'France', 'Germany', 'Greece', 'Guatemala', 'Haiti', 'Holand-Netherlands', 'Honduras', 'Hong', 'Hungary', 'India', 'Iran', 'Ireland', 'Italy', 'Jamaica', 'Japan', 'Laos', 'Mexico', 'Nicaragua', 'Outlying-US(Guam-USVI-etc)', 'Peru', 'Philippines', 'Poland', 'Portugal', 'Puerto-Rico', 'Scotland', 'South', 'Taiwan', 'Thailand', 'Trinadad&amp;Tobago', 'United-States', 'Vietnam', 'Yugoslavia'</td>\n",
       "    </tr>\n",
       "    <tr>\n",
       "      <th>'label'</th>\n",
       "      <td>'&lt;=50K', '&gt;50K'</td>\n",
       "    </tr>\n",
       "  </tbody>\n",
       "</table>\n",
       "</div>"
      ],
      "text/plain": [
       "                                                                                                                                                                                                                                                                                                                                                                                                                                                                                                                                 Values\n",
       "Domain                                                                                                                                                                                                                                                                                                                                                                                                                                                                                                                                 \n",
       "'age'                                                                                                                                                                                                                                                                                                                                                                                                        '?', 'Federal-gov', 'Local-gov', 'Never-worked', 'Private', 'Self-emp-inc', 'Self-emp-not-inc', 'State-gov', 'Without-pay'\n",
       "'fnlwgt'                                                                                                                                                                                                                                                                                                                                          '10th', '11th', '12th', '1st-4th', '5th-6th', '7th-8th', '9th', 'Assoc-acdm', 'Assoc-voc', 'Bachelors', 'Doctorate', 'HS-grad', 'Masters', 'Preschool', 'Prof-school', 'Some-college'\n",
       "'marital-status'                                                                                                                                                                                                                                                                                                                                                                                                'Divorced', 'Married-AF-spouse', 'Married-civ-spouse', 'Married-spouse-absent', 'Never-married', 'Separated', 'Widowed'\n",
       "'occupation'                                                                                                                                                                                                                                                                  '?', 'Adm-clerical', 'Armed-Forces', 'Craft-repair', 'Exec-managerial', 'Farming-fishing', 'Handlers-cleaners', 'Machine-op-inspct', 'Other-service', 'Priv-house-serv', 'Prof-specialty', 'Protective-serv', 'Sales', 'Tech-support', 'Transport-moving'\n",
       "'relationship'                                                                                                                                                                                                                                                                                                                                                                                                                                           'Husband', 'Not-in-family', 'Other-relative', 'Own-child', 'Unmarried', 'Wife'\n",
       "'race'                                                                                                                                                                                                                                                                                                                                                                                                                                                            'Amer-Indian-Eskimo', 'Asian-Pac-Islander', 'Black', 'Other', 'White'\n",
       "'sex'                                                                                                                                                                                                                                                                                                                                                                                                                                                                                                                  'Female', 'Male'\n",
       "'native-country'  '?', 'Cambodia', 'Canada', 'China', 'Columbia', 'Cuba', 'Dominican-Republic', 'Ecuador', 'El-Salvador', 'England', 'France', 'Germany', 'Greece', 'Guatemala', 'Haiti', 'Holand-Netherlands', 'Honduras', 'Hong', 'Hungary', 'India', 'Iran', 'Ireland', 'Italy', 'Jamaica', 'Japan', 'Laos', 'Mexico', 'Nicaragua', 'Outlying-US(Guam-USVI-etc)', 'Peru', 'Philippines', 'Poland', 'Portugal', 'Puerto-Rico', 'Scotland', 'South', 'Taiwan', 'Thailand', 'Trinadad&Tobago', 'United-States', 'Vietnam', 'Yugoslavia'\n",
       "'label'                                                                                                                                                                                                                                                                                                                                                                                                                                                                                                                 '<=50K', '>50K'"
      ]
     },
     "metadata": {},
     "output_type": "display_data"
    }
   ],
   "source": [
    "# Infer schema from the computed statistics.\n",
    "schema = tfdv.infer_schema(statistics=train_stats)\n",
    "tfdv.display_schema(schema)"
   ]
  },
  {
   "cell_type": "markdown",
   "metadata": {},
   "source": [
    "#### Statistics Comparison (Train vs Eval)"
   ]
  },
  {
   "cell_type": "code",
   "execution_count": 9,
   "metadata": {},
   "outputs": [
    {
     "data": {
      "text/html": [
       "<iframe id='facets-iframe' width=\"100%\" height=\"500px\"></iframe>\n",
       "        <script>\n",
       "        facets_iframe = document.getElementById('facets-iframe');\n",
       "        facets_html = '<script src=\"https://cdnjs.cloudflare.com/ajax/libs/webcomponentsjs/1.3.3/webcomponents-lite.js\"><\\/script><link rel=\"import\" href=\"https://raw.githubusercontent.com/PAIR-code/facets/master/facets-dist/facets-jupyter.html\"><facets-overview proto-input=\"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\"></facets-overview>';\n",
       "        facets_iframe.srcdoc = facets_html;\n",
       "         facets_iframe.id = \"\";\n",
       "         setTimeout(() => {\n",
       "           facets_iframe.setAttribute('height', facets_iframe.contentWindow.document.body.offsetHeight + 'px')\n",
       "         }, 1500)\n",
       "         </script>"
      ],
      "text/plain": [
       "<IPython.core.display.HTML object>"
      ]
     },
     "metadata": {},
     "output_type": "display_data"
    }
   ],
   "source": [
    "# Generate evaluation dataset statistics\n",
    "eval_stats = tfdv.generate_statistics_from_dataframe(eval_df)\n",
    "\n",
    "# Compare training with evaluation\n",
    "tfdv.visualize_statistics(\n",
    "    lhs_statistics=eval_stats, \n",
    "    rhs_statistics=train_stats, \n",
    "    lhs_name='EVAL_DATASET', \n",
    "    rhs_name='TRAIN_DATASET'\n",
    ")"
   ]
  },
  {
   "cell_type": "markdown",
   "metadata": {},
   "source": [
    "#### Detect Anomalies"
   ]
  },
  {
   "cell_type": "code",
   "execution_count": 10,
   "metadata": {},
   "outputs": [
    {
     "data": {
      "text/html": [
       "<h4 style=\"color:green;\">No anomalies found.</h4>"
      ],
      "text/plain": [
       "<IPython.core.display.HTML object>"
      ]
     },
     "metadata": {},
     "output_type": "display_data"
    }
   ],
   "source": [
    "# Check evaluation data for errors by validating the evaluation dataset statistics using the reference schema\n",
    "anomalies =  tfdv.validate_statistics(statistics=eval_stats, schema=schema)\n",
    "tfdv.display_anomalies(anomalies)"
   ]
  },
  {
   "cell_type": "markdown",
   "metadata": {},
   "source": [
    "#### Schema modification\n",
    "- Relax feature distribution\n",
    "- Append new value\n",
    "- Restrict range"
   ]
  },
  {
   "cell_type": "code",
   "execution_count": 11,
   "metadata": {},
   "outputs": [],
   "source": [
    "# Relax the minimum fraction of values that must come from the domain for the feature `native-country`\n",
    "country_feature = tfdv.get_feature(schema, 'native-country')\n",
    "country_feature.distribution_constraints.min_domain_mass = 0.9"
   ]
  },
  {
   "cell_type": "code",
   "execution_count": 12,
   "metadata": {},
   "outputs": [],
   "source": [
    "# Add new value to the domain of the feature `race`\n",
    "race_domain = tfdv.get_domain(schema, 'race')\n",
    "race_domain.value.append('Asian')"
   ]
  },
  {
   "cell_type": "code",
   "execution_count": 13,
   "metadata": {},
   "outputs": [
    {
     "name": "stderr",
     "output_type": "stream",
     "text": [
      "WARNING:root:Replacing existing domain of feature \"age\".\n"
     ]
    },
    {
     "data": {
      "text/html": [
       "<div>\n",
       "<style scoped>\n",
       "    .dataframe tbody tr th:only-of-type {\n",
       "        vertical-align: middle;\n",
       "    }\n",
       "\n",
       "    .dataframe tbody tr th {\n",
       "        vertical-align: top;\n",
       "    }\n",
       "\n",
       "    .dataframe thead th {\n",
       "        text-align: right;\n",
       "    }\n",
       "</style>\n",
       "<table border=\"1\" class=\"dataframe\">\n",
       "  <thead>\n",
       "    <tr style=\"text-align: right;\">\n",
       "      <th></th>\n",
       "      <th>Type</th>\n",
       "      <th>Presence</th>\n",
       "      <th>Valency</th>\n",
       "      <th>Domain</th>\n",
       "    </tr>\n",
       "    <tr>\n",
       "      <th>Feature name</th>\n",
       "      <th></th>\n",
       "      <th></th>\n",
       "      <th></th>\n",
       "      <th></th>\n",
       "    </tr>\n",
       "  </thead>\n",
       "  <tbody>\n",
       "    <tr>\n",
       "      <th>'age'</th>\n",
       "      <td>BYTES</td>\n",
       "      <td>required</td>\n",
       "      <td></td>\n",
       "      <td>min: 17; max: 90</td>\n",
       "    </tr>\n",
       "    <tr>\n",
       "      <th>'workclass'</th>\n",
       "      <td>INT</td>\n",
       "      <td>required</td>\n",
       "      <td></td>\n",
       "      <td>-</td>\n",
       "    </tr>\n",
       "    <tr>\n",
       "      <th>'fnlwgt'</th>\n",
       "      <td>STRING</td>\n",
       "      <td>required</td>\n",
       "      <td></td>\n",
       "      <td>'fnlwgt'</td>\n",
       "    </tr>\n",
       "    <tr>\n",
       "      <th>'education-num'</th>\n",
       "      <td>INT</td>\n",
       "      <td>required</td>\n",
       "      <td></td>\n",
       "      <td>-</td>\n",
       "    </tr>\n",
       "    <tr>\n",
       "      <th>'marital-status'</th>\n",
       "      <td>STRING</td>\n",
       "      <td>required</td>\n",
       "      <td></td>\n",
       "      <td>'marital-status'</td>\n",
       "    </tr>\n",
       "    <tr>\n",
       "      <th>'occupation'</th>\n",
       "      <td>STRING</td>\n",
       "      <td>required</td>\n",
       "      <td></td>\n",
       "      <td>'occupation'</td>\n",
       "    </tr>\n",
       "    <tr>\n",
       "      <th>'relationship'</th>\n",
       "      <td>STRING</td>\n",
       "      <td>required</td>\n",
       "      <td></td>\n",
       "      <td>'relationship'</td>\n",
       "    </tr>\n",
       "    <tr>\n",
       "      <th>'race'</th>\n",
       "      <td>STRING</td>\n",
       "      <td>required</td>\n",
       "      <td></td>\n",
       "      <td>'race'</td>\n",
       "    </tr>\n",
       "    <tr>\n",
       "      <th>'sex'</th>\n",
       "      <td>STRING</td>\n",
       "      <td>required</td>\n",
       "      <td></td>\n",
       "      <td>'sex'</td>\n",
       "    </tr>\n",
       "    <tr>\n",
       "      <th>'capital-gain'</th>\n",
       "      <td>INT</td>\n",
       "      <td>required</td>\n",
       "      <td></td>\n",
       "      <td>-</td>\n",
       "    </tr>\n",
       "    <tr>\n",
       "      <th>'capital-loss'</th>\n",
       "      <td>INT</td>\n",
       "      <td>required</td>\n",
       "      <td></td>\n",
       "      <td>-</td>\n",
       "    </tr>\n",
       "    <tr>\n",
       "      <th>'hours-per-week'</th>\n",
       "      <td>INT</td>\n",
       "      <td>required</td>\n",
       "      <td></td>\n",
       "      <td>-</td>\n",
       "    </tr>\n",
       "    <tr>\n",
       "      <th>'native-country'</th>\n",
       "      <td>STRING</td>\n",
       "      <td>required</td>\n",
       "      <td></td>\n",
       "      <td>'native-country'</td>\n",
       "    </tr>\n",
       "    <tr>\n",
       "      <th>'label'</th>\n",
       "      <td>STRING</td>\n",
       "      <td>required</td>\n",
       "      <td></td>\n",
       "      <td>'label'</td>\n",
       "    </tr>\n",
       "    <tr>\n",
       "      <th>'__index_level_0__'</th>\n",
       "      <td>INT</td>\n",
       "      <td>required</td>\n",
       "      <td></td>\n",
       "      <td>-</td>\n",
       "    </tr>\n",
       "  </tbody>\n",
       "</table>\n",
       "</div>"
      ],
      "text/plain": [
       "                       Type  Presence Valency            Domain\n",
       "Feature name                                                   \n",
       "'age'                 BYTES  required          min: 17; max: 90\n",
       "'workclass'             INT  required                         -\n",
       "'fnlwgt'             STRING  required                  'fnlwgt'\n",
       "'education-num'         INT  required                         -\n",
       "'marital-status'     STRING  required          'marital-status'\n",
       "'occupation'         STRING  required              'occupation'\n",
       "'relationship'       STRING  required            'relationship'\n",
       "'race'               STRING  required                    'race'\n",
       "'sex'                STRING  required                     'sex'\n",
       "'capital-gain'          INT  required                         -\n",
       "'capital-loss'          INT  required                         -\n",
       "'hours-per-week'        INT  required                         -\n",
       "'native-country'     STRING  required          'native-country'\n",
       "'label'              STRING  required                   'label'\n",
       "'__index_level_0__'     INT  required                         -"
      ]
     },
     "metadata": {},
     "output_type": "display_data"
    },
    {
     "data": {
      "text/html": [
       "<div>\n",
       "<style scoped>\n",
       "    .dataframe tbody tr th:only-of-type {\n",
       "        vertical-align: middle;\n",
       "    }\n",
       "\n",
       "    .dataframe tbody tr th {\n",
       "        vertical-align: top;\n",
       "    }\n",
       "\n",
       "    .dataframe thead th {\n",
       "        text-align: right;\n",
       "    }\n",
       "</style>\n",
       "<table border=\"1\" class=\"dataframe\">\n",
       "  <thead>\n",
       "    <tr style=\"text-align: right;\">\n",
       "      <th></th>\n",
       "      <th>Values</th>\n",
       "    </tr>\n",
       "    <tr>\n",
       "      <th>Domain</th>\n",
       "      <th></th>\n",
       "    </tr>\n",
       "  </thead>\n",
       "  <tbody>\n",
       "    <tr>\n",
       "      <th>'age'</th>\n",
       "      <td>'?', 'Federal-gov', 'Local-gov', 'Never-worked', 'Private', 'Self-emp-inc', 'Self-emp-not-inc', 'State-gov', 'Without-pay'</td>\n",
       "    </tr>\n",
       "    <tr>\n",
       "      <th>'fnlwgt'</th>\n",
       "      <td>'10th', '11th', '12th', '1st-4th', '5th-6th', '7th-8th', '9th', 'Assoc-acdm', 'Assoc-voc', 'Bachelors', 'Doctorate', 'HS-grad', 'Masters', 'Preschool', 'Prof-school', 'Some-college'</td>\n",
       "    </tr>\n",
       "    <tr>\n",
       "      <th>'marital-status'</th>\n",
       "      <td>'Divorced', 'Married-AF-spouse', 'Married-civ-spouse', 'Married-spouse-absent', 'Never-married', 'Separated', 'Widowed'</td>\n",
       "    </tr>\n",
       "    <tr>\n",
       "      <th>'occupation'</th>\n",
       "      <td>'?', 'Adm-clerical', 'Armed-Forces', 'Craft-repair', 'Exec-managerial', 'Farming-fishing', 'Handlers-cleaners', 'Machine-op-inspct', 'Other-service', 'Priv-house-serv', 'Prof-specialty', 'Protective-serv', 'Sales', 'Tech-support', 'Transport-moving'</td>\n",
       "    </tr>\n",
       "    <tr>\n",
       "      <th>'relationship'</th>\n",
       "      <td>'Husband', 'Not-in-family', 'Other-relative', 'Own-child', 'Unmarried', 'Wife'</td>\n",
       "    </tr>\n",
       "    <tr>\n",
       "      <th>'race'</th>\n",
       "      <td>'Amer-Indian-Eskimo', 'Asian-Pac-Islander', 'Black', 'Other', 'White', 'Asian'</td>\n",
       "    </tr>\n",
       "    <tr>\n",
       "      <th>'sex'</th>\n",
       "      <td>'Female', 'Male'</td>\n",
       "    </tr>\n",
       "    <tr>\n",
       "      <th>'native-country'</th>\n",
       "      <td>'?', 'Cambodia', 'Canada', 'China', 'Columbia', 'Cuba', 'Dominican-Republic', 'Ecuador', 'El-Salvador', 'England', 'France', 'Germany', 'Greece', 'Guatemala', 'Haiti', 'Holand-Netherlands', 'Honduras', 'Hong', 'Hungary', 'India', 'Iran', 'Ireland', 'Italy', 'Jamaica', 'Japan', 'Laos', 'Mexico', 'Nicaragua', 'Outlying-US(Guam-USVI-etc)', 'Peru', 'Philippines', 'Poland', 'Portugal', 'Puerto-Rico', 'Scotland', 'South', 'Taiwan', 'Thailand', 'Trinadad&amp;Tobago', 'United-States', 'Vietnam', 'Yugoslavia'</td>\n",
       "    </tr>\n",
       "    <tr>\n",
       "      <th>'label'</th>\n",
       "      <td>'&lt;=50K', '&gt;50K'</td>\n",
       "    </tr>\n",
       "  </tbody>\n",
       "</table>\n",
       "</div>"
      ],
      "text/plain": [
       "                                                                                                                                                                                                                                                                                                                                                                                                                                                                                                                                 Values\n",
       "Domain                                                                                                                                                                                                                                                                                                                                                                                                                                                                                                                                 \n",
       "'age'                                                                                                                                                                                                                                                                                                                                                                                                        '?', 'Federal-gov', 'Local-gov', 'Never-worked', 'Private', 'Self-emp-inc', 'Self-emp-not-inc', 'State-gov', 'Without-pay'\n",
       "'fnlwgt'                                                                                                                                                                                                                                                                                                                                          '10th', '11th', '12th', '1st-4th', '5th-6th', '7th-8th', '9th', 'Assoc-acdm', 'Assoc-voc', 'Bachelors', 'Doctorate', 'HS-grad', 'Masters', 'Preschool', 'Prof-school', 'Some-college'\n",
       "'marital-status'                                                                                                                                                                                                                                                                                                                                                                                                'Divorced', 'Married-AF-spouse', 'Married-civ-spouse', 'Married-spouse-absent', 'Never-married', 'Separated', 'Widowed'\n",
       "'occupation'                                                                                                                                                                                                                                                                  '?', 'Adm-clerical', 'Armed-Forces', 'Craft-repair', 'Exec-managerial', 'Farming-fishing', 'Handlers-cleaners', 'Machine-op-inspct', 'Other-service', 'Priv-house-serv', 'Prof-specialty', 'Protective-serv', 'Sales', 'Tech-support', 'Transport-moving'\n",
       "'relationship'                                                                                                                                                                                                                                                                                                                                                                                                                                           'Husband', 'Not-in-family', 'Other-relative', 'Own-child', 'Unmarried', 'Wife'\n",
       "'race'                                                                                                                                                                                                                                                                                                                                                                                                                                                   'Amer-Indian-Eskimo', 'Asian-Pac-Islander', 'Black', 'Other', 'White', 'Asian'\n",
       "'sex'                                                                                                                                                                                                                                                                                                                                                                                                                                                                                                                  'Female', 'Male'\n",
       "'native-country'  '?', 'Cambodia', 'Canada', 'China', 'Columbia', 'Cuba', 'Dominican-Republic', 'Ecuador', 'El-Salvador', 'England', 'France', 'Germany', 'Greece', 'Guatemala', 'Haiti', 'Holand-Netherlands', 'Honduras', 'Hong', 'Hungary', 'India', 'Iran', 'Ireland', 'Italy', 'Jamaica', 'Japan', 'Laos', 'Mexico', 'Nicaragua', 'Outlying-US(Guam-USVI-etc)', 'Peru', 'Philippines', 'Poland', 'Portugal', 'Puerto-Rico', 'Scotland', 'South', 'Taiwan', 'Thailand', 'Trinadad&Tobago', 'United-States', 'Vietnam', 'Yugoslavia'\n",
       "'label'                                                                                                                                                                                                                                                                                                                                                                                                                                                                                                                 '<=50K', '>50K'"
      ]
     },
     "metadata": {},
     "output_type": "display_data"
    }
   ],
   "source": [
    "# Restrict the range of the `age` feature\n",
    "tfdv.set_domain(schema, 'age', schema_pb2.IntDomain(name='age', min=17, max=90))\n",
    "tfdv.display_schema(schema)"
   ]
  },
  {
   "cell_type": "markdown",
   "metadata": {},
   "source": [
    "#### Examine Data Slice"
   ]
  },
  {
   "cell_type": "code",
   "execution_count": 14,
   "metadata": {},
   "outputs": [],
   "source": [
    "from tensorflow_data_validation.utils import slicing_util\n",
    "\n",
    "slice_fn = slicing_util.get_feature_value_slicer(features={'sex': None})"
   ]
  },
  {
   "cell_type": "code",
   "execution_count": 15,
   "metadata": {},
   "outputs": [],
   "source": [
    "# Declare stats options\n",
    "slice_stats_options = tfdv.StatsOptions(schema=schema,\n",
    "                                        slice_functions=[slice_fn],\n",
    "                                        infer_type_from_schema=True)"
   ]
  },
  {
   "cell_type": "code",
   "execution_count": 16,
   "metadata": {},
   "outputs": [
    {
     "name": "stderr",
     "output_type": "stream",
     "text": [
      "WARNING:apache_beam.runners.interactive.interactive_environment:Dependencies required for Interactive Beam PCollection visualization are not available, please use: `pip install apache-beam[interactive]` to install necessary dependencies to enable all data visualization features.\n"
     ]
    },
    {
     "data": {
      "application/javascript": "\n        if (typeof window.interactive_beam_jquery == 'undefined') {\n          var jqueryScript = document.createElement('script');\n          jqueryScript.src = 'https://code.jquery.com/jquery-3.4.1.slim.min.js';\n          jqueryScript.type = 'text/javascript';\n          jqueryScript.onload = function() {\n            var datatableScript = document.createElement('script');\n            datatableScript.src = 'https://cdn.datatables.net/1.10.20/js/jquery.dataTables.min.js';\n            datatableScript.type = 'text/javascript';\n            datatableScript.onload = function() {\n              window.interactive_beam_jquery = jQuery.noConflict(true);\n              window.interactive_beam_jquery(document).ready(function($){\n                \n              });\n            }\n            document.head.appendChild(datatableScript);\n          };\n          document.head.appendChild(jqueryScript);\n        } else {\n          window.interactive_beam_jquery(document).ready(function($){\n            \n          });\n        }"
     },
     "metadata": {},
     "output_type": "display_data"
    },
    {
     "name": "stderr",
     "output_type": "stream",
     "text": [
      "WARNING:apache_beam.io.tfrecordio:Couldn't find python-snappy so the implementation of _TFRecordUtil._masked_crc32c is not as fast as it could be.\n"
     ]
    },
    {
     "name": "stdout",
     "output_type": "stream",
     "text": [
      "WARNING:tensorflow:From d:\\My Project\\mlops deeplearning-ai\\notebooks\\TensorFlowExtent\\venv39\\lib\\site-packages\\tensorflow_data_validation\\utils\\statistics_io_impl.py:91: tf_record_iterator (from tensorflow.python.lib.io.tf_record) is deprecated and will be removed in a future version.\n",
      "Instructions for updating:\n",
      "Use eager execution and: \n",
      "`tf.data.TFRecordDataset(path)`\n"
     ]
    },
    {
     "name": "stderr",
     "output_type": "stream",
     "text": [
      "WARNING:tensorflow:From d:\\My Project\\mlops deeplearning-ai\\notebooks\\TensorFlowExtent\\venv39\\lib\\site-packages\\tensorflow_data_validation\\utils\\statistics_io_impl.py:91: tf_record_iterator (from tensorflow.python.lib.io.tf_record) is deprecated and will be removed in a future version.\n",
      "Instructions for updating:\n",
      "Use eager execution and: \n",
      "`tf.data.TFRecordDataset(path)`\n"
     ]
    }
   ],
   "source": [
    "# Convert dataframe to CSV since `slice_functions` works only with `tfdv.generate_statistics_from_csv`\n",
    "CSV_PATH = 'slice_sample.csv'\n",
    "train_df.to_csv(CSV_PATH)\n",
    "\n",
    "# Calculate statistics for the sliced dataset\n",
    "sliced_stats = tfdv.generate_statistics_from_csv(CSV_PATH, stats_options=slice_stats_options)"
   ]
  },
  {
   "cell_type": "code",
   "execution_count": 17,
   "metadata": {},
   "outputs": [
    {
     "name": "stdout",
     "output_type": "stream",
     "text": [
      "Datasets generated: ['All Examples', 'sex_Male', 'sex_Female']\n",
      "Type of sliced_stats elements: <class 'tensorflow_metadata.proto.v0.statistics_pb2.DatasetFeatureStatistics'>\n"
     ]
    }
   ],
   "source": [
    "print(f'Datasets generated: {[sliced.name for sliced in sliced_stats.datasets]}')\n",
    "print(f'Type of sliced_stats elements: {type(sliced_stats.datasets[0])}')"
   ]
  },
  {
   "cell_type": "code",
   "execution_count": 18,
   "metadata": {},
   "outputs": [
    {
     "data": {
      "text/html": [
       "<iframe id='facets-iframe' width=\"100%\" height=\"500px\"></iframe>\n",
       "        <script>\n",
       "        facets_iframe = document.getElementById('facets-iframe');\n",
       "        facets_html = '<script src=\"https://cdnjs.cloudflare.com/ajax/libs/webcomponentsjs/1.3.3/webcomponents-lite.js\"><\\/script><link rel=\"import\" href=\"https://raw.githubusercontent.com/PAIR-code/facets/master/facets-dist/facets-jupyter.html\"><facets-overview proto-input=\"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\"></facets-overview>';\n",
       "        facets_iframe.srcdoc = facets_html;\n",
       "         facets_iframe.id = \"\";\n",
       "         setTimeout(() => {\n",
       "           facets_iframe.setAttribute('height', facets_iframe.contentWindow.document.body.offsetHeight + 'px')\n",
       "         }, 1500)\n",
       "         </script>"
      ],
      "text/plain": [
       "<IPython.core.display.HTML object>"
      ]
     },
     "metadata": {},
     "output_type": "display_data"
    }
   ],
   "source": [
    "from tensorflow_metadata.proto.v0.statistics_pb2 import DatasetFeatureStatisticsList\n",
    "\n",
    "# Convert `Male` statistics (index=1) to the correct type and get the dataset name\n",
    "male_stats_list = DatasetFeatureStatisticsList()\n",
    "male_stats_list.datasets.extend([sliced_stats.datasets[1]])\n",
    "male_stats_name = sliced_stats.datasets[1].name\n",
    "\n",
    "# Convert `Female` statistics (index=2) to the correct type and get the dataset name\n",
    "female_stats_list = DatasetFeatureStatisticsList()\n",
    "female_stats_list.datasets.extend([sliced_stats.datasets[2]])\n",
    "female_stats_name = sliced_stats.datasets[2].name\n",
    "\n",
    "# Visualize the two slices side by side\n",
    "tfdv.visualize_statistics(\n",
    "    lhs_statistics=male_stats_list,\n",
    "    rhs_statistics=female_stats_list,\n",
    "    lhs_name=male_stats_name,\n",
    "    rhs_name=female_stats_name\n",
    ")"
   ]
  }
 ],
 "metadata": {
  "kernelspec": {
   "display_name": "venv_tfx",
   "language": "python",
   "name": "python3"
  },
  "language_info": {
   "codemirror_mode": {
    "name": "ipython",
    "version": 3
   },
   "file_extension": ".py",
   "mimetype": "text/x-python",
   "name": "python",
   "nbconvert_exporter": "python",
   "pygments_lexer": "ipython3",
   "version": "3.9.9"
  }
 },
 "nbformat": 4,
 "nbformat_minor": 2
}
